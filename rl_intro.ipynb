{
  "cells": [
    {
      "cell_type": "code",
      "source": [
        "pip install gymnasium"
      ],
      "metadata": {
        "id": "1r0abI6B9Duw"
      },
      "id": "1r0abI6B9Duw",
      "execution_count": null,
      "outputs": []
    },
    {
      "cell_type": "code",
      "source": [
        "pip install nevergrad"
      ],
      "metadata": {
        "id": "nGZU0I91S1Un"
      },
      "id": "nGZU0I91S1Un",
      "execution_count": null,
      "outputs": []
    },
    {
      "cell_type": "code",
      "source": [
        "!apt-get install python-opengl -y\n",
        "!apt install xvfb -y\n",
        "!pip install pyvirtualdisplay\n",
        "!pip install piglet"
      ],
      "metadata": {
        "id": "PXaM31ND4fes"
      },
      "id": "PXaM31ND4fes",
      "execution_count": null,
      "outputs": []
    },
    {
      "cell_type": "code",
      "source": [
        "import numpy as np\n",
        "import gymnasium as gym\n",
        "import torch\n",
        "import torch.nn as nn\n",
        "import torch.nn.functional as F\n",
        "import nevergrad as ng"
      ],
      "metadata": {
        "id": "K9jgpOtm-n_7"
      },
      "id": "K9jgpOtm-n_7",
      "execution_count": null,
      "outputs": []
    },
    {
      "cell_type": "markdown",
      "id": "3f19c843-d866-4d4e-af7e-7d38438cdc06",
      "metadata": {
        "id": "3f19c843-d866-4d4e-af7e-7d38438cdc06"
      },
      "source": [
        "# creating mountain-car class"
      ]
    },
    {
      "cell_type": "markdown",
      "id": "3e6030d0-44ee-494d-a539-80780b499f83",
      "metadata": {
        "id": "3e6030d0-44ee-494d-a539-80780b499f83"
      },
      "source": [
        "The specifications to note about representing the mountain-car MDP:\n",
        "\n",
        "- the state is 2-dimensional and consists of x-axis position of the car as well as its velocity. Limits are $[-1.2, 0.6]$ for the position and $[-0.07, 0.07]$ for the velocity.\n",
        "- the action is 1-dimensional and represents the force applied to the car. Limits are $[-1, 1]$.\n",
        "- the reward is $100$ if the car reached the goal, i.e. its position is $>=0.45$ along the x-axis. For every timestep, a penalty of $0.1 * \\mathrm{action}^2$ is also applied\n",
        "- the car starts in the valley between the mountains at a location drawn uniformly at random between $-0.6$ & $-0.4$ and\n",
        "$\\gamma = 1$.\n",
        "- the dynamics are given by the following equations:\n",
        "$$v_{t+1} = v_t + a_t * \\mathrm{power} - 0.0025 * \\mathrm{cos}(3 * p_t)$$\n",
        "$$p_{t+1} = p_t + v_{t+1}$$\n",
        "(where $a_t$ is the current action, $p_t$ the current position, $v_t$ the current velocity, and $\\mathrm{power}=0.0015$)\n",
        "- the episode terminates if the the car reaches the goal or timestep 999 is reached"
      ]
    },
    {
      "cell_type": "code",
      "execution_count": null,
      "id": "ab8b75e6-996b-41b0-bec6-36bab9477f97",
      "metadata": {
        "id": "ab8b75e6-996b-41b0-bec6-36bab9477f97"
      },
      "outputs": [],
      "source": [
        "class MountainCar:\n",
        "  def __init__(self):\n",
        "    self.min_pos = -1.2\n",
        "    self.max_pos = 0.6\n",
        "    self.min_v = -0.07\n",
        "    self.max_v = 0.07\n",
        "    self.power = 0.0015\n",
        "    self.goal_pos = 0.45\n",
        "    self.min_action = -1\n",
        "    self.max_action = 1\n",
        "    self.timestamp = 0\n",
        "    self.state = None\n",
        "\n",
        "  def reset(self, seed=None):\n",
        "    # prepare for another episode\n",
        "    seed_seq = np.random.SeedSequence(seed)\n",
        "    self.rng = np.random.Generator(np.random.PCG64(seed_seq))  # using rng for sampling\n",
        "    pos = self.rng.uniform(-0.6,-0.4)\n",
        "    v = 0\n",
        "    self.state = np.array([pos, v])\n",
        "    return self.state\n",
        "\n",
        "  def step(self, action):\n",
        "    # performing single environment step\n",
        "    pos, v = self.state\n",
        "    force = min(max(action[0],self.min_action), self.max_action)\n",
        "    v = v + (force*self.power) - 0.0025*np.cos(3*pos)\n",
        "    v = np.clip(v, self.min_v, self.max_v)\n",
        "    pos = pos + v\n",
        "    pos = np.clip(pos, self.min_pos, self.max_pos)\n",
        "    if pos == self.min_pos and v < 0:\n",
        "      v = 0\n",
        "    self.timestamp = self.timestamp +1\n",
        "    done = bool(pos>=self.goal_pos or self.timestamp ==999)\n",
        "    reward = 0\n",
        "    if done:\n",
        "      reward = 100\n",
        "    reward = reward - 0.1*np.power(action[0],2)\n",
        "    self.state = np.array([pos,v])\n",
        "    return self.state, reward, done"
      ]
    },
    {
      "cell_type": "markdown",
      "id": "466f4b9c-cfce-4d93-ae35-e4020d7f27bb",
      "metadata": {
        "id": "466f4b9c-cfce-4d93-ae35-e4020d7f27bb"
      },
      "source": [
        "## testing"
      ]
    },
    {
      "cell_type": "markdown",
      "id": "1c2c9569-e709-40ad-a9fd-16c13a65878f",
      "metadata": {
        "id": "1c2c9569-e709-40ad-a9fd-16c13a65878f"
      },
      "source": [
        "We can check created MountainCar environment by seeding it (with 12345) and comparing it to the gymnasium implementation (that is seeded to the same random seed) on the provided action sequence (should yield the same state and reward sequence)."
      ]
    },
    {
      "cell_type": "code",
      "execution_count": null,
      "id": "8c84956e-e8e3-489f-aa93-7b6e9061719e",
      "metadata": {
        "id": "8c84956e-e8e3-489f-aa93-7b6e9061719e"
      },
      "outputs": [],
      "source": [
        "env_real = gym.make(\"MountainCarContinuous-v0\",render_mode=\"rgb_array\")\n",
        "action_seq = np.load(\"action_seq.npy\")"
      ]
    },
    {
      "cell_type": "code",
      "execution_count": null,
      "id": "23a2a2b9-bfb1-45f1-bcaf-6aa55d742b6c",
      "metadata": {
        "id": "23a2a2b9-bfb1-45f1-bcaf-6aa55d742b6c",
        "colab": {
          "base_uri": "https://localhost:8080/"
        },
        "outputId": "fa5e0c73-0c5f-402e-a1ac-2d2c84d26fb0"
      },
      "outputs": [
        {
          "output_type": "stream",
          "name": "stdout",
          "text": [
            "[-0.55453277  0.        ] [-0.5558011  -0.00126833]\n",
            "[-0.5558011  -0.00126833] [-0.5583283  -0.00252719]\n",
            "[-0.5583283  -0.00252719] [-0.56209546 -0.00376719]\n",
            "[-0.56209546 -0.00376719] [-0.56707454 -0.0049791 ]\n",
            "[-0.56707454 -0.0049791 ] [-0.5732285  -0.00615396]\n",
            "[-0.5732285  -0.00615396] [-0.58051157 -0.00728311]\n",
            "[-0.58051157 -0.00728311] [-0.5888699  -0.00835833]\n",
            "[-0.5888699  -0.00835833] [-0.59824187 -0.00937192]\n",
            "[-0.59824187 -0.00937192] [-0.60855865 -0.01031676]\n",
            "[-0.60855865 -0.01031676] [-0.6197451  -0.01118644]\n",
            "[-0.6197451  -0.01118644] [-0.63172036 -0.0119753 ]\n",
            "[-0.63172036 -0.0119753 ] [-0.6443989  -0.01267854]\n",
            "[-0.6443989  -0.01267854] [-0.6576912  -0.01329224]\n",
            "[-0.6576912  -0.01329224] [-0.6715046  -0.01381345]\n",
            "[-0.6715046  -0.01381345] [-0.6857448 -0.0142402]\n",
            "[-0.6857448 -0.0142402] [-0.7003163 -0.0145715]\n",
            "[-0.7003163 -0.0145715] [-0.71512365 -0.01480734]\n",
            "[-0.71512365 -0.01480734] [-0.7300723  -0.01494864]\n",
            "[-0.7300723  -0.01494864] [-0.74506956 -0.01499723]\n",
            "[-0.74506956 -0.01499723] [-0.7600253  -0.01495574]\n",
            "[-0.7600253  -0.01495574] [-0.7748529  -0.01482752]\n",
            "[-0.7748529  -0.01482752] [-0.7894694  -0.01461656]\n",
            "[-0.7894694  -0.01461656] [-0.80379677 -0.01432733]\n",
            "[-0.80379677 -0.01432733] [-0.8177615  -0.01396473]\n",
            "[-0.8177615  -0.01396473] [-0.83129543 -0.01353393]\n",
            "[-0.83129543 -0.01353393] [-0.8443357  -0.01304025]\n",
            "[-0.8443357  -0.01304025] [-0.85682476 -0.01248911]\n",
            "[-0.85682476 -0.01248911] [-0.86871064 -0.01188587]\n",
            "[-0.86871064 -0.01188587] [-0.8799464  -0.01123578]\n",
            "[-0.8799464  -0.01123578] [-0.89049035 -0.01054393]\n",
            "[-0.89049035 -0.01054393] [-0.9003055  -0.00981515]\n",
            "[-0.9003055  -0.00981515] [-0.9093595  -0.00905399]\n",
            "[-0.9093595  -0.00905399] [-0.91762424 -0.0082647 ]\n",
            "[-0.91762424 -0.0082647 ] [-0.9250755  -0.00745122]\n",
            "[-0.9250755  -0.00745122] [-0.9316926  -0.00661713]\n",
            "[-0.9316926  -0.00661713] [-0.93745834 -0.00576572]\n",
            "[-0.93745834 -0.00576572] [-0.9423583  -0.00489998]\n",
            "[-0.9423583  -0.00489998] [-0.9463809  -0.00402262]\n",
            "[-0.9463809  -0.00402262] [-0.949517  -0.0031361]\n",
            "[-0.949517  -0.0031361] [-0.9517597  -0.00224267]\n",
            "[-0.9517597  -0.00224267] [-0.95310414 -0.00134444]\n",
            "[-0.95310414 -0.00134444] [-9.5354754e-01 -4.4338612e-04]\n",
            "[-9.5354754e-01 -4.4338612e-04] [-0.9500889  0.0034586]\n",
            "[-0.9500889  0.0034586] [-0.9427357   0.00735326]\n",
            "[-0.9427357   0.00735326] [-0.9315042   0.01123149]\n",
            "[-0.9315042   0.01123149] [-0.9164218   0.01508242]\n",
            "[-0.9164218   0.01508242] [-0.8975293   0.01889247]\n",
            "[-0.8975293   0.01889247] [-0.8748846   0.02264467]\n",
            "[-0.8748846   0.02264467] [-0.8485666   0.02631801]\n",
            "[-0.8485666   0.02631801] [-0.81867945  0.02988713]\n",
            "[-0.81867945  0.02988713] [-0.7853572  0.0333223]\n",
            "[-0.7853572  0.0333223] [-0.7487673   0.03658985]\n",
            "[-0.7487673   0.03658985] [-0.70911425  0.03965308]\n",
            "[-0.70911425  0.03965308] [-0.6666405   0.04247372]\n",
            "[-0.6666405   0.04247372] [-0.6216266   0.04501391]\n",
            "[-0.6216266   0.04501391] [-0.574388    0.04723857]\n",
            "[-0.574388    0.04723857] [-0.52527     0.04911802]\n",
            "[-0.52527     0.04911802] [-0.47463945  0.05063055]\n",
            "[-0.47463945  0.05063055] [-0.42287478  0.05176467]\n",
            "[-0.42287478  0.05176467] [-0.3703541   0.05252069]\n",
            "[-0.3703541   0.05252069] [-0.3174427   0.05291142]\n",
            "[-0.3174427   0.05291142] [-0.26448074  0.05296195]\n",
            "[-0.26448074  0.05296195] [-0.21177228  0.05270845]\n",
            "[-0.21177228  0.05270845] [-0.15957603  0.05219625]\n",
            "[-0.15957603  0.05219625] [-0.10809874  0.05147729]\n",
            "[-0.10809874  0.05147729] [-0.05749113  0.0506076 ]\n",
            "[-0.05749113  0.0506076 ] [-0.00784644  0.04964469]\n",
            "[-0.00784644  0.04964469] [0.04079895 0.04864538]\n",
            "[0.04079895 0.04864538] [0.08846304 0.04766409]\n",
            "[0.08846304 0.04766409] [0.13521466 0.04675161]\n",
            "[0.13521466 0.04675161] [0.18116915 0.04595449]\n",
            "[0.18116915 0.04595449] [0.2264839  0.04531474]\n",
            "[0.2264839  0.04531474] [0.27135384 0.04486994]\n",
            "[0.27135384 0.04486994] [0.3160074  0.04465357]\n",
            "[0.3160074  0.04465357] [0.36070275 0.04469534]\n",
            "[0.36070275 0.04469534] [0.40572444 0.04502167]\n",
            "[0.40572444 0.04502167] [0.45138037 0.04565592]\n"
          ]
        }
      ],
      "source": [
        "# compare gym and your environment - they should yield the same state sequence\n",
        "state, _ = env_real.reset(seed=12345)\n",
        "for action in action_seq:\n",
        "  next_state, reward, terminated, truncated, _ = env_real.step(action)\n",
        "  print(state, next_state)\n",
        "  if terminated or truncated:\n",
        "    break\n",
        "  state = next_state\n",
        "env_real.close()"
      ]
    },
    {
      "cell_type": "code",
      "source": [
        "env_mc = MountainCar()\n",
        "state = env_mc.reset(seed=12345)\n",
        "for action in action_seq:\n",
        "  next_state, reward, done = env_mc.step(action)\n",
        "  print(state, next_state)\n",
        "  if done:\n",
        "    break\n",
        "  state = next_state"
      ],
      "metadata": {
        "id": "aVaA0t_7Bd1-",
        "colab": {
          "base_uri": "https://localhost:8080/"
        },
        "outputId": "b6d508fc-67ff-41be-faec-29c53ba7c921"
      },
      "id": "aVaA0t_7Bd1-",
      "execution_count": null,
      "outputs": [
        {
          "output_type": "stream",
          "name": "stdout",
          "text": [
            "[-0.5545328  0.       ] [-0.55580112 -0.00126833]\n",
            "[-0.55580112 -0.00126833] [-0.55832831 -0.00252719]\n",
            "[-0.55832831 -0.00252719] [-0.56209549 -0.00376719]\n",
            "[-0.56209549 -0.00376719] [-0.5670746 -0.0049791]\n",
            "[-0.5670746 -0.0049791] [-0.57322855 -0.00615396]\n",
            "[-0.57322855 -0.00615396] [-0.58051166 -0.00728311]\n",
            "[-0.58051166 -0.00728311] [-0.58886999 -0.00835833]\n",
            "[-0.58886999 -0.00835833] [-0.59824191 -0.00937192]\n",
            "[-0.59824191 -0.00937192] [-0.60855867 -0.01031676]\n",
            "[-0.60855867 -0.01031676] [-0.61974511 -0.01118644]\n",
            "[-0.61974511 -0.01118644] [-0.63172041 -0.0119753 ]\n",
            "[-0.63172041 -0.0119753 ] [-0.64439894 -0.01267853]\n",
            "[-0.64439894 -0.01267853] [-0.65769118 -0.01329223]\n",
            "[-0.65769118 -0.01329223] [-0.67150462 -0.01381345]\n",
            "[-0.67150462 -0.01381345] [-0.68574482 -0.0142402 ]\n",
            "[-0.68574482 -0.0142402 ] [-0.70031631 -0.0145715 ]\n",
            "[-0.70031631 -0.0145715 ] [-0.71512365 -0.01480733]\n",
            "[-0.71512365 -0.01480733] [-0.73007229 -0.01494864]\n",
            "[-0.73007229 -0.01494864] [-0.74506952 -0.01499723]\n",
            "[-0.74506952 -0.01499723] [-0.76002526 -0.01495574]\n",
            "[-0.76002526 -0.01495574] [-0.77485278 -0.01482752]\n",
            "[-0.77485278 -0.01482752] [-0.78946933 -0.01461655]\n",
            "[-0.78946933 -0.01461655] [-0.80379666 -0.01432733]\n",
            "[-0.80379666 -0.01432733] [-0.81776139 -0.01396473]\n",
            "[-0.81776139 -0.01396473] [-0.83129532 -0.01353393]\n",
            "[-0.83129532 -0.01353393] [-0.84433557 -0.01304025]\n",
            "[-0.84433557 -0.01304025] [-0.85682469 -0.01248911]\n",
            "[-0.85682469 -0.01248911] [-0.86871055 -0.01188587]\n",
            "[-0.86871055 -0.01188587] [-0.87994634 -0.01123578]\n",
            "[-0.87994634 -0.01123578] [-0.89049027 -0.01054393]\n",
            "[-0.89049027 -0.01054393] [-0.90030542 -0.00981515]\n",
            "[-0.90030542 -0.00981515] [-0.90935941 -0.00905399]\n",
            "[-0.90935941 -0.00905399] [-0.91762412 -0.00826471]\n",
            "[-0.91762412 -0.00826471] [-0.92507534 -0.00745122]\n",
            "[-0.92507534 -0.00745122] [-0.93169247 -0.00661713]\n",
            "[-0.93169247 -0.00661713] [-0.9374582  -0.00576573]\n",
            "[-0.9374582  -0.00576573] [-0.94235819 -0.00489999]\n",
            "[-0.94235819 -0.00489999] [-0.94638081 -0.00402262]\n",
            "[-0.94638081 -0.00402262] [-0.94951691 -0.0031361 ]\n",
            "[-0.94951691 -0.0031361 ] [-0.95175959 -0.00224268]\n",
            "[-0.95175959 -0.00224268] [-0.95310404 -0.00134445]\n",
            "[-0.95310404 -0.00134445] [-9.53547428e-01 -4.43391284e-04]\n",
            "[-9.53547428e-01 -4.43391284e-04] [-0.95008884  0.00345859]\n",
            "[-0.95008884  0.00345859] [-0.94273559  0.00735325]\n",
            "[-0.94273559  0.00735325] [-0.9315041   0.01123149]\n",
            "[-0.9315041   0.01123149] [-0.91642169  0.01508241]\n",
            "[-0.91642169  0.01508241] [-0.89752922  0.01889247]\n",
            "[-0.89752922  0.01889247] [-0.87488456  0.02264466]\n",
            "[-0.87488456  0.02264466] [-0.84856655  0.026318  ]\n",
            "[-0.84856655  0.026318  ] [-0.81867943  0.02988712]\n",
            "[-0.81867943  0.02988712] [-0.78535714  0.03332229]\n",
            "[-0.78535714  0.03332229] [-0.74876729  0.03658984]\n",
            "[-0.74876729  0.03658984] [-0.70911422  0.03965307]\n",
            "[-0.70911422  0.03965307] [-0.6666405   0.04247372]\n",
            "[-0.6666405   0.04247372] [-0.6216266  0.0450139]\n",
            "[-0.6216266  0.0450139] [-0.57438804  0.04723856]\n",
            "[-0.57438804  0.04723856] [-0.52527003  0.04911801]\n",
            "[-0.52527003  0.04911801] [-0.47463949  0.05063054]\n",
            "[-0.47463949  0.05063054] [-0.42287482  0.05176467]\n",
            "[-0.42287482  0.05176467] [-0.37035414  0.05252068]\n",
            "[-0.37035414  0.05252068] [-0.31744273  0.05291141]\n",
            "[-0.31744273  0.05291141] [-0.26448079  0.05296194]\n",
            "[-0.26448079  0.05296194] [-0.21177234  0.05270845]\n",
            "[-0.21177234  0.05270845] [-0.15957611  0.05219624]\n",
            "[-0.15957611  0.05219624] [-0.10809882  0.05147729]\n",
            "[-0.10809882  0.05147729] [-0.05749122  0.0506076 ]\n",
            "[-0.05749122  0.0506076 ] [-0.00784653  0.04964469]\n",
            "[-0.00784653  0.04964469] [0.04079885 0.04864538]\n",
            "[0.04079885 0.04864538] [0.08846293 0.04766408]\n",
            "[0.08846293 0.04766408] [0.13521454 0.04675161]\n",
            "[0.13521454 0.04675161] [0.18116903 0.04595449]\n",
            "[0.18116903 0.04595449] [0.22648377 0.04531474]\n",
            "[0.22648377 0.04531474] [0.27135371 0.04486994]\n",
            "[0.27135371 0.04486994] [0.31600727 0.04465356]\n",
            "[0.31600727 0.04465356] [0.36070261 0.04469534]\n",
            "[0.36070261 0.04469534] [0.40572427 0.04502167]\n",
            "[0.40572427 0.04502167] [0.45138019 0.04565592]\n"
          ]
        }
      ]
    },
    {
      "cell_type": "markdown",
      "id": "df405689-818e-47bc-8e71-91749eda48e5",
      "metadata": {
        "id": "df405689-818e-47bc-8e71-91749eda48e5"
      },
      "source": [
        "## Model-based RL"
      ]
    },
    {
      "cell_type": "markdown",
      "id": "5c5b713f-cb86-4062-a08e-27bc4b927f49",
      "metadata": {
        "id": "5c5b713f-cb86-4062-a08e-27bc4b927f49"
      },
      "source": [
        "Now we try and solve this MDP - we opt for a model-based RL algorithm, meaning that we use an explicitly trained model of the transition dynamics. To this end, we collect data from the environment in the form of $(s,a,s',r)$ tuples, train the surrogate model $\\hat{T}$ to replicate the state transition dynamics and later use it to derive a policy $\\pi:S \\rightarrow A$, such that we reach the goal to maximize the return.\n",
        "\n",
        "In this section we start by training a dynamics model in torch - it is recommended to train one model for each of the state dimensions and predict differences instead of absolute values (i.e. predict $\\Delta v_t = v_{t+1} - v_t$ instead of $v_{t+1}$ directly).\n",
        "\n",
        "* Since the environment is rather simple, roughly 10,000 interactions should suffice for data collection and 3 hidden layers of size 10 should be enough to capture the transition function.  \n",
        "* Uniform random actions during collection and stop trajectories after 200 steps.\n",
        "* Using the option of the gym environment to sample starting states uniformly in the whole range in $[-1.2, 0.6]$ for data collection (using only the standard range will require much more data collection to obtain accurate models since the edge regions are hard to reach under random actions).\n",
        "* Splitting our data into 90 / 10 percent for training and validation.\n",
        "* Expected an MSE validation error below $1e-6$."
      ]
    },
    {
      "cell_type": "markdown",
      "id": "aa531da7-4f16-45a6-868d-bb1eef8d930e",
      "metadata": {
        "id": "aa531da7-4f16-45a6-868d-bb1eef8d930e"
      },
      "source": [
        "## define the model"
      ]
    },
    {
      "cell_type": "code",
      "execution_count": null,
      "id": "c42efd2f-dd43-46df-aa8e-3e0350e08a43",
      "metadata": {
        "id": "c42efd2f-dd43-46df-aa8e-3e0350e08a43"
      },
      "outputs": [],
      "source": [
        "class TransitionModel(torch.nn.Module):\n",
        "  def __init__(self, state_dim, action_dim, hidden_dims):\n",
        "    super(TransitionModel,self).__init__()\n",
        "    self.fc1 = torch.nn.Linear(state_dim + action_dim, hidden_dims[0])\n",
        "    self.fc2 = torch.nn.Linear(hidden_dims[0],hidden_dims[1])\n",
        "    self.fc3 = torch.nn.Linear(hidden_dims[1],hidden_dims[2])\n",
        "    self.fc4 = torch.nn.Linear(hidden_dims[2], state_dim)\n",
        "\n",
        "  def forward(self, state, action):\n",
        "    x = torch.cat((state,action), dim=1)\n",
        "    x = F.relu(self.fc1(x))\n",
        "    x = F.relu(self.fc2(x))\n",
        "    x = F.relu(self.fc3(x))\n",
        "    return self.fc4(x)"
      ]
    },
    {
      "cell_type": "markdown",
      "id": "1c4ba633-d1e5-437c-8178-ed361af45e9f",
      "metadata": {
        "id": "1c4ba633-d1e5-437c-8178-ed361af45e9f"
      },
      "source": [
        "## collect data"
      ]
    },
    {
      "cell_type": "code",
      "source": [
        "# collect data for training\n",
        "env = gym.make(\"MountainCarContinuous-v0\")\n",
        "num_interactions = 50\n",
        "max_steps = 200\n",
        "transitions = []\n",
        "\n",
        "for _ in range(num_interactions):\n",
        "  state, _ = env.reset(seed=12345)\n",
        "  t = {'states':[], 'actions':[], 'next_states':[],'rewards':[]}\n",
        "  for _ in range(max_steps):\n",
        "    action = env.action_space.sample()\n",
        "    next_state, reward, terminated, truncated, _ = env.step(action)\n",
        "    t['states'].append(state)\n",
        "    t['actions'].append(action[0])\n",
        "    t['next_states'].append(next_state)\n",
        "    t['rewards'].append(reward)\n",
        "    if terminated or truncated:\n",
        "      break\n",
        "    state = next_state\n",
        "  transitions.append(t)\n",
        "  train_size = int(0.9 * num_interactions)\n",
        "  train = transitions[:train_size]\n",
        "  valid = transitions[train_size:]\n"
      ],
      "metadata": {
        "id": "fgJ0ZmLGzY5h"
      },
      "id": "fgJ0ZmLGzY5h",
      "execution_count": null,
      "outputs": []
    },
    {
      "cell_type": "markdown",
      "id": "29b8c641-6ddc-4958-a59b-ddcc4da096e1",
      "metadata": {
        "id": "29b8c641-6ddc-4958-a59b-ddcc4da096e1"
      },
      "source": [
        "## train"
      ]
    },
    {
      "cell_type": "code",
      "source": [
        "state_dim = env.observation_space.shape[0]\n",
        "action_dim = env.action_space.shape[0]\n",
        "hidden_dims = [10,10,10]\n",
        "criterion = torch.nn.MSELoss()\n",
        "\n",
        "def prepare_data(data):\n",
        "  states = torch.tensor(data['states'], dtype=torch.float32)\n",
        "  actions = torch.tensor(data['actions'], dtype=torch.float32)\n",
        "  actions = torch.reshape(actions, (len(actions),1))\n",
        "  next_states = torch.tensor(data['next_states'], dtype=torch.float32)\n",
        "  #r = torch.tensor(data['rewards'], dtype=torch.float32)\n",
        "  #rewards = torch.reshape(r, (len(r),1))\n",
        "  return states, actions, next_states #, rewards"
      ],
      "metadata": {
        "id": "IfET68_AhPRd"
      },
      "id": "IfET68_AhPRd",
      "execution_count": null,
      "outputs": []
    },
    {
      "cell_type": "markdown",
      "source": [
        "training a model for the position variable *p*"
      ],
      "metadata": {
        "id": "MxzObyFLoORQ"
      },
      "id": "MxzObyFLoORQ"
    },
    {
      "cell_type": "code",
      "source": [
        "# instantiate transition models and train them\n",
        "pModel = TransitionModel(state_dim, action_dim, hidden_dims)\n",
        "optimizer = torch.optim.Adam(pModel.parameters(), lr=0.001)\n",
        "for e in range(10):\n",
        "  pModel.train()\n",
        "  train_loss = 0\n",
        "  for t in train:\n",
        "    s, a, ns = prepare_data(t)\n",
        "    optimizer.zero_grad()\n",
        "    pred = pModel(s, a)\n",
        "    loss = criterion(pred[:,:1], ns[:,:1]-s[:,:1])\n",
        "    loss.backward()\n",
        "    optimizer.step()\n",
        "    train_loss += loss.item()\n",
        "  pModel.eval()\n",
        "  val_loss = 0\n",
        "  with torch.no_grad():\n",
        "    for v in valid:\n",
        "      s, a, ns = prepare_data(v)\n",
        "      pred = pModel(s,a)\n",
        "      loss = criterion(pred[:,:1], ns[:,:1]-s[:,:1])\n",
        "      val_loss += loss.item()\n",
        "\n",
        "  print(f'Epoch [{e + 1}/{10}], Training Loss: {train_loss / len(train)}, Validation Loss:{val_loss/len(valid)}')\n"
      ],
      "metadata": {
        "id": "L1qbk2xqEbNF"
      },
      "id": "L1qbk2xqEbNF",
      "execution_count": null,
      "outputs": []
    },
    {
      "cell_type": "markdown",
      "source": [
        "training another model for velocity *v*"
      ],
      "metadata": {
        "id": "6xYYyx5Voc9w"
      },
      "id": "6xYYyx5Voc9w"
    },
    {
      "cell_type": "code",
      "execution_count": null,
      "id": "a9d63226-03b9-42e6-bde2-7dc4a04487b0",
      "metadata": {
        "id": "a9d63226-03b9-42e6-bde2-7dc4a04487b0"
      },
      "outputs": [],
      "source": [
        "vModel = TransitionModel(state_dim, action_dim, hidden_dims)\n",
        "optimizer = torch.optim.Adam(vModel.parameters(), lr=0.001)\n",
        "\n",
        "epochs = 10\n",
        "for epoch in range(epochs):\n",
        "  vModel.train()\n",
        "  total_loss = 0\n",
        "  for t in train:\n",
        "    s, a, ns = prepare_data(t)\n",
        "    optimizer.zero_grad()\n",
        "    pred = vModel(s, a)\n",
        "    loss = criterion(pred[:,:2], ns[:,:2]-s[:,:2])\n",
        "    loss.backward()\n",
        "    optimizer.step()\n",
        "    total_loss +=loss.item()\n",
        "  vModel.eval()\n",
        "  val_loss = 0\n",
        "  with torch.no_grad():\n",
        "    for v in valid:\n",
        "      s, a, ns = prepare_data(v)\n",
        "      pred = vModel(s,a)\n",
        "      loss = criterion(pred[:,:2], ns[:,:2]-s[:,:2])\n",
        "      val_loss += loss.item()\n",
        "  print(f'Epoch [{epoch + 1}/{epochs}], Training Loss: {total_loss / len(train)}, Validation Loss:{val_loss/len(valid)}')"
      ]
    },
    {
      "cell_type": "markdown",
      "source": [
        "saving models"
      ],
      "metadata": {
        "id": "JyydRGRoond5"
      },
      "id": "JyydRGRoond5"
    },
    {
      "cell_type": "code",
      "source": [
        "torch.save(pModel, 'pModel.pt')\n",
        "torch.save(vModel, 'vModel.pt')\n",
        "#pModel = torch.load('pModel.pt')\n",
        "#vModel = torch.load('vModel.pt')"
      ],
      "metadata": {
        "id": "er79YRHXF-1p"
      },
      "id": "er79YRHXF-1p",
      "execution_count": null,
      "outputs": []
    },
    {
      "cell_type": "markdown",
      "id": "111629c3-c1e6-4beb-aff1-ad49db50dd74",
      "metadata": {
        "id": "111629c3-c1e6-4beb-aff1-ad49db50dd74"
      },
      "source": [
        "## Model testing"
      ]
    },
    {
      "cell_type": "markdown",
      "id": "184fd82c-512b-450f-92bd-5117bf40cebb",
      "metadata": {
        "id": "184fd82c-512b-450f-92bd-5117bf40cebb"
      },
      "source": [
        "To check, we first build a compound model that encapsulates both predictions into one, i.e. it takes in state and action and returns a full state consisting of both position and velocity.\n",
        "\n",
        "We use the simple_policy to collect episodes in the real environment & use the same starting state and actions to collect a \"virtual\" / \"imagined\" episode. They need not be identical since our model cannot be perfect (however they should be quite similar and both should reach the goal within ~100 steps with the simple policy)."
      ]
    },
    {
      "cell_type": "markdown",
      "id": "6ce284b4-9168-4772-9693-16418d4f4143",
      "metadata": {
        "id": "6ce284b4-9168-4772-9693-16418d4f4143"
      },
      "source": [
        "## compound model"
      ]
    },
    {
      "cell_type": "code",
      "execution_count": null,
      "id": "8dda020f-00c8-4c57-a206-49b90d32ddee",
      "metadata": {
        "id": "8dda020f-00c8-4c57-a206-49b90d32ddee"
      },
      "outputs": [],
      "source": [
        "class CompoundModel:\n",
        "  def __init__(self, pModel, vModel):\n",
        "    self.pModel = pModel\n",
        "    self.vModel = vModel\n",
        "\n",
        "  def predict(self, state, action, return_torch=False):\n",
        "    a = torch.FloatTensor(action)\n",
        "    print(len(a))\n",
        "    ac = torch.reshape(a, (len(a),1))\n",
        "    s = torch.FloatTensor(state)\n",
        "    print(len(s))\n",
        "    st = torch.reshape(s, (len(s),2))\n",
        "    delta_pos = self.pModel(st, ac)\n",
        "    delta_vel = self.vModel(st, ac)\n",
        "    next_pos = state[0] + delta_pos.data[0][0].numpy()\n",
        "    next_vel = state[1] + delta_vel.data[0][1].numpy()\n",
        "    next_state_numpy = np.array([next_pos, next_vel])\n",
        "    return next_state_numpy"
      ]
    },
    {
      "cell_type": "markdown",
      "id": "edf5a078-d6c4-4c4c-8c92-b53070f2b35b",
      "metadata": {
        "id": "edf5a078-d6c4-4c4c-8c92-b53070f2b35b"
      },
      "source": [
        "## test in trajectories"
      ]
    },
    {
      "cell_type": "code",
      "execution_count": null,
      "id": "6d804571-f1a4-48e5-b482-1ec9ac986b1c",
      "metadata": {
        "id": "6d804571-f1a4-48e5-b482-1ec9ac986b1c"
      },
      "outputs": [],
      "source": [
        "simple_policy = lambda x: np.array([1.]) if x[1] > 0. else np.array([-1.])"
      ]
    },
    {
      "cell_type": "code",
      "execution_count": null,
      "id": "ad31990a-5e52-4ead-9653-e20fa294b8ab",
      "metadata": {
        "scrolled": true,
        "id": "ad31990a-5e52-4ead-9653-e20fa294b8ab"
      },
      "outputs": [],
      "source": [
        "# use the gym env to compare state sequences obtained by environment and surrogate model when executing the same actions\n",
        "env = gym.make(\"MountainCarContinuous-v0\")\n",
        "model = CompoundModel(pModel, vModel)\n",
        "goal_position = 0.45\n",
        "s, _ = env.reset(seed=42)\n",
        "state = s\n",
        "\n",
        "for _ in range(100):\n",
        "  action = simple_policy(state)\n",
        "  next_state = model.predict(state, action)\n",
        "  print(state, next_state)\n",
        "  done = bool(next_state[0] >= goal_position)\n",
        "  if done:\n",
        "    print(\"Terminated\")\n",
        "    break\n",
        "  state = next_state"
      ]
    },
    {
      "cell_type": "code",
      "source": [
        "state = s\n",
        "for _ in range(100):\n",
        "  action = simple_policy(state)\n",
        "  next_state, reward, terminated, truncated, _ = env.step(action)\n",
        "  print(state, next_state)\n",
        "  if terminated or truncated:\n",
        "    print(\"Terminated\")\n",
        "    break\n",
        "  state = next_state\n",
        "env.close()"
      ],
      "metadata": {
        "colab": {
          "base_uri": "https://localhost:8080/"
        },
        "id": "hnID0PUI9qn9",
        "outputId": "07b69fcf-cba2-4031-b4d6-12a73c703284"
      },
      "id": "hnID0PUI9qn9",
      "execution_count": null,
      "outputs": [
        {
          "output_type": "stream",
          "name": "stdout",
          "text": [
            "[-0.4452088  0.       ] [-0.4472913  -0.00208252]\n",
            "[-0.4472913  -0.00208252] [-0.45144117 -0.00414984]\n",
            "[-0.45144117 -0.00414984] [-0.45762798 -0.00618681]\n",
            "[-0.45762798 -0.00618681] [-0.46580634 -0.00817836]\n",
            "[-0.46580634 -0.00817836] [-0.47591597 -0.01010964]\n",
            "[-0.47591597 -0.01010964] [-0.48788202 -0.01196604]\n",
            "[-0.48788202 -0.01196604] [-0.5016154 -0.0137334]\n",
            "[-0.5016154 -0.0137334] [-0.51701355 -0.01539816]\n",
            "[-0.51701355 -0.01539816] [-0.5339611  -0.01694755]\n",
            "[-0.5339611  -0.01694755] [-0.552331   -0.01836984]\n",
            "[-0.552331   -0.01836984] [-0.5719856  -0.01965462]\n",
            "[-0.5719856  -0.01965462] [-0.59277856 -0.02079299]\n",
            "[-0.59277856 -0.02079299] [-0.61455643 -0.02177786]\n",
            "[-0.61455643 -0.02177786] [-0.63716054 -0.02260411]\n",
            "[-0.63716054 -0.02260411] [-0.6604293  -0.02326878]\n",
            "[-0.6604293  -0.02326878] [-0.6842004  -0.02377113]\n",
            "[-0.6842004  -0.02377113] [-0.7083131  -0.02411268]\n",
            "[-0.7083131  -0.02411268] [-0.7326102  -0.02429714]\n",
            "[-0.7326102  -0.02429714] [-0.7569405  -0.02433028]\n",
            "[-0.7569405  -0.02433028] [-0.7811602  -0.02421968]\n",
            "[-0.7811602  -0.02421968] [-0.8051347  -0.02397453]\n",
            "[-0.8051347  -0.02397453] [-0.82873994 -0.02360526]\n",
            "[-0.82873994 -0.02360526] [-0.85186315 -0.0231232 ]\n",
            "[-0.85186315 -0.0231232 ] [-0.8744035  -0.02254031]\n",
            "[-0.8744035  -0.02254031] [-0.89627224 -0.02186876]\n",
            "[-0.89627224 -0.02186876] [-0.9173929  -0.02112067]\n",
            "[-0.9173929  -0.02112067] [-0.93770075 -0.02030784]\n",
            "[-0.93770075 -0.02030784] [-0.95714223 -0.01944151]\n",
            "[-0.95714223 -0.01944151] [-0.97567445 -0.01853219]\n",
            "[-0.97567445 -0.01853219] [-0.99326396 -0.01758952]\n",
            "[-0.99326396 -0.01758952] [-1.0098861  -0.01662218]\n",
            "[-1.0098861  -0.01662218] [-1.025524   -0.01563782]\n",
            "[-1.025524   -0.01563782] [-1.0401671  -0.01464311]\n",
            "[-1.0401671  -0.01464311] [-1.0538107  -0.01364366]\n",
            "[-1.0538107  -0.01364366] [-1.0664549  -0.01264415]\n",
            "[-1.0664549  -0.01264415] [-1.0781032  -0.01164833]\n",
            "[-1.0781032  -0.01164833] [-1.0887623  -0.01065906]\n",
            "[-1.0887623  -0.01065906] [-1.0984408  -0.00967847]\n",
            "[-1.0984408  -0.00967847] [-1.1071488  -0.00870796]\n",
            "[-1.1071488  -0.00870796] [-1.114897   -0.00774828]\n",
            "[-1.114897   -0.00774828] [-1.1216967  -0.00679967]\n",
            "[-1.1216967  -0.00679967] [-1.1275586  -0.00586185]\n",
            "[-1.1275586  -0.00586185] [-1.1324928  -0.00493415]\n",
            "[-1.1324928  -0.00493415] [-1.1365083  -0.00401555]\n",
            "[-1.1365083  -0.00401555] [-1.139613   -0.00310475]\n",
            "[-1.139613   -0.00310475] [-1.1418133  -0.00220021]\n",
            "[-1.1418133  -0.00220021] [-1.1431135  -0.00130025]\n",
            "[-1.1431135  -0.00130025] [-1.1435165e+00 -4.0303747e-04]\n",
            "[-1.1435165e+00 -4.0303747e-04] [-1.1430233e+00  4.9331656e-04]\n",
            "[-1.1430233e+00  4.9331656e-04] [-1.1386325   0.00439072]\n",
            "[-1.1386325   0.00439072] [-1.1303353   0.00829726]\n",
            "[-1.1303353   0.00829726] [-1.1181154  0.0122199]\n",
            "[-1.1181154  0.0122199] [-1.1019518   0.01616353]\n",
            "[-1.1019518   0.01616353] [-1.0818219   0.02012988]\n",
            "[-1.0818219   0.02012988] [-1.0577055  0.0241164]\n",
            "[-1.0577055  0.0241164] [-1.0295904   0.02811516]\n",
            "[-1.0295904   0.02811516] [-0.99747866  0.03211167]\n",
            "[-0.99747866  0.03211167] [-0.9613947   0.03608392]\n",
            "[-0.9613947   0.03608392] [-0.92139316  0.04000155]\n",
            "[-0.92139316  0.04000155] [-0.8775675  0.0438256]\n",
            "[-0.8775675  0.0438256] [-0.8300587   0.04750881]\n",
            "[-0.8300587   0.04750881] [-0.7790618   0.05099688]\n",
            "[-0.7790618   0.05099688] [-0.72483104  0.05423072]\n",
            "[-0.72483104  0.05423072] [-0.6676811   0.05714995]\n",
            "[-0.6676811   0.05714995] [-0.6079839   0.05969723]\n",
            "[-0.6079839   0.05969723] [-0.5461605   0.06182338]\n",
            "[-0.5461605   0.06182338] [-0.48266807  0.06349246]\n",
            "[-0.48266807  0.06349246] [-0.41798183  0.06468625]\n",
            "[-0.41798183  0.06468625] [-0.35257453  0.06540731]\n",
            "[-0.35257453  0.06540731] [-0.28689435  0.06568017]\n",
            "[-0.28689435  0.06568017] [-0.22134398  0.06555037]\n",
            "[-0.22134398  0.06555037] [-0.1562624   0.06508159]\n",
            "[-0.1562624   0.06508159] [-0.0919111  0.0643513]\n",
            "[-0.0919111  0.0643513] [-0.02846537  0.06344573]\n",
            "[-0.02846537  0.06344573] [0.03398948 0.06245484]\n",
            "[0.03398948 0.06245484] [0.09545731 0.06146783]\n",
            "[0.09545731 0.06146783] [0.15602694 0.06056964]\n",
            "[0.15602694 0.06056964] [0.2158655  0.05983855]\n",
            "[0.2158655  0.05983855] [0.2752102  0.05934471]\n",
            "[0.2752102  0.05934471] [0.33435968 0.05914948]\n",
            "[0.33435968 0.05914948] [0.39366487 0.05930521]\n",
            "[0.39366487 0.05930521] [0.45352006 0.05985519]\n",
            "Terminated\n"
          ]
        }
      ]
    },
    {
      "cell_type": "markdown",
      "id": "9817745f-0bff-4b64-adfc-db6ca917e3c4",
      "metadata": {
        "id": "9817745f-0bff-4b64-adfc-db6ca917e3c4"
      },
      "source": [
        "## Policy model"
      ]
    },
    {
      "cell_type": "markdown",
      "id": "d781c533-15c3-4834-86e9-d5c109a2d3a9",
      "metadata": {
        "id": "d781c533-15c3-4834-86e9-d5c109a2d3a9"
      },
      "source": [
        "next, we want to use the trained transition model to derive a closed form policy $\\pi:S \\rightarrow A$ to solve the problem. First, define a neural network policy model in torch - a single layer of 20 hidden units should suffice for this simple problem."
      ]
    },
    {
      "cell_type": "code",
      "execution_count": null,
      "id": "eb811163-efc7-4eb6-a911-ce7e90efc0fc",
      "metadata": {
        "id": "eb811163-efc7-4eb6-a911-ce7e90efc0fc"
      },
      "outputs": [],
      "source": [
        "class PolicyModel(torch.nn.Module):\n",
        "  def __init__(self, state_dim, action_dim, hidden_dim):\n",
        "    super(PolicyModel, self).__init__()\n",
        "    self.i = nn.Linear(state_dim, hidden_dim)\n",
        "    self.out = nn.Linear(hidden_dim, action_dim)\n",
        "\n",
        "  def forward(self, state):\n",
        "    x = F.relu(self.i(state))\n",
        "    action = F.tanh(self.out(x))\n",
        "    return action"
      ]
    },
    {
      "cell_type": "markdown",
      "id": "f6546e61-e39a-4601-ae97-6ff891c94cba",
      "metadata": {
        "id": "f6546e61-e39a-4601-ae97-6ff891c94cba"
      },
      "source": [
        "## define rollouts"
      ]
    },
    {
      "cell_type": "markdown",
      "id": "2b9f4bac-b4bb-45a3-b426-a1060e4d54b4",
      "metadata": {
        "id": "2b9f4bac-b4bb-45a3-b426-a1060e4d54b4"
      },
      "source": [
        "Next, we'll need a way to use the model to assess the policy's performance. To do so,\n",
        "\n",
        "* We sample start states from the from the dataset and perform imagined episodes from there on out by following the policy actions and using the dynamics model's state predictions.\n",
        "\n",
        "* We use our knowledge about the environment and directly declare any of the episodes that reach the goal as success.\n",
        "\n",
        "* The rollout function returns the ratio of episodes that resulted in success"
      ]
    },
    {
      "cell_type": "code",
      "execution_count": null,
      "id": "44d6cba8-7405-463d-9a66-6dedcd694d5c",
      "metadata": {
        "id": "44d6cba8-7405-463d-9a66-6dedcd694d5c"
      },
      "outputs": [],
      "source": [
        "def rollout(policy, dynamics, steps, start_states):\n",
        "  success_count = 0\n",
        "  for _ in range(steps):\n",
        "      actions = policy(start_states)\n",
        "      next_states = dynamics.predict(start_states, actions)\n",
        "      success_states = [ns for ns in next_states if ns[0]>=0.45]\n",
        "      success_count += len(success_states)\n",
        "      nstates = np.array([ns for ns in next_states if ns not in success_states])\n",
        "      start_states = torch.tensor(nstates, dtype=torch.float32)\n",
        "  success_ratio = success_count / len(start_states)\n",
        "  return success_ratio"
      ]
    },
    {
      "cell_type": "markdown",
      "id": "128cf7f6-6bc5-4209-9f5e-42e2bbaa7ac6",
      "metadata": {
        "id": "128cf7f6-6bc5-4209-9f5e-42e2bbaa7ac6"
      },
      "source": [
        "## policy training"
      ]
    },
    {
      "cell_type": "markdown",
      "id": "8de3c988-973f-43fe-85e5-d30b2d6c5a0a",
      "metadata": {
        "id": "8de3c988-973f-43fe-85e5-d30b2d6c5a0a"
      },
      "source": [
        "for the final policy training, we go for a gradient-free optimization technique, since gradient based approaches can exhibit unstable behavior in the model based setting with sparse rewards. For this we first need a fitness function, i.e. a function that receives the paramaters of the policy as a flat weight array in numpy and returns the fitness of this policy, i.e. its above defined success ratio:"
      ]
    },
    {
      "cell_type": "code",
      "source": [
        "def sampleState():\n",
        "  pos = np.random.uniform(-1.2, 0.6, 1)\n",
        "  vel = 0.0\n",
        "  x = np.array([pos[0], vel])\n",
        "  return torch.reshape(torch.FloatTensor(x), (1,2))"
      ],
      "metadata": {
        "id": "THW7D1kwQ9h6"
      },
      "id": "THW7D1kwQ9h6",
      "execution_count": null,
      "outputs": []
    },
    {
      "cell_type": "code",
      "execution_count": null,
      "id": "51bb6f8c-df7a-4ec6-a93c-89ce9ab8f840",
      "metadata": {
        "id": "51bb6f8c-df7a-4ec6-a93c-89ce9ab8f840"
      },
      "outputs": [],
      "source": [
        "def fitness(param_vec, batchsize=100, horizon=100):\n",
        "  state_dim = 2\n",
        "  action_dim = 1\n",
        "  hidden_dim = 20\n",
        "  start_states = torch.empty((0, 2), dtype=torch.float32)\n",
        "  for _ in range(batchsize):\n",
        "    state = sampleState()\n",
        "    print(state.size())\n",
        "    print(start_states.size())\n",
        "    start_states = torch.cat((start_states, state), dim=0)\n",
        "  policy = PolicyModel(state_dim, action_dim, hidden_dim)\n",
        "  stateDict = policy.state_dict()\n",
        "  for weight, p in zip(policy.state_dict(), param_vec):\n",
        "    stateDict[f\"{weight}\"] = p\n",
        "  dynamics = CompoundModel(pModel,vModel)\n",
        "  fitness = rollout(policy, dynamics, horizon, torch.as_tensor(start_states))\n",
        "  return fitness"
      ]
    },
    {
      "cell_type": "markdown",
      "id": "8409a03d-5439-4034-9b5b-0be304c7c389",
      "metadata": {
        "id": "8409a03d-5439-4034-9b5b-0be304c7c389"
      },
      "source": [
        "finally, use the nevergrad library (https://facebookresearch.github.io/nevergrad/getting_started.html) to find well performing weights. Note: A budget of 5000 and rollouts of length 100 is usually plenty to derive a good policy."
      ]
    },
    {
      "cell_type": "code",
      "execution_count": null,
      "id": "3910c526-5459-4e1e-ad34-a3698944cec0",
      "metadata": {
        "id": "3910c526-5459-4e1e-ad34-a3698944cec0"
      },
      "outputs": [],
      "source": [
        "# train policy using nevergrad\n",
        "w1=ng.p.Array(shape=(20,2)),\n",
        "b1=ng.p.Array(shape=(20,)),\n",
        "w2=ng.p.Array(shape=(1,20)),\n",
        "b2=ng.p.Array(shape=(1,))\n",
        "params= ng.p.Tuple(w1,b1,w2,b2)\n",
        "instru = ng.p.Instrumentation(param_vec=params)\n",
        "optimizer = ng.optimizers.NGOpt(parametrization=instru, budget=500)\n",
        "recommendation = optimizer.minimize(fitness)"
      ]
    },
    {
      "cell_type": "code",
      "source": [
        "np.save(\"policy.npy\", recommendation.value[1])"
      ],
      "metadata": {
        "id": "7gi-PYQ3NTvq"
      },
      "id": "7gi-PYQ3NTvq",
      "execution_count": null,
      "outputs": []
    },
    {
      "cell_type": "code",
      "source": [
        "def params_from_ng(recommendation):\n",
        "  w = np.load(recommendation, allow_pickle=True)\n",
        "  params = []\n",
        "  for i in w.item()['param_vec']:\n",
        "    if(type(i)==tuple):\n",
        "      x = np.array(i[0].value)\n",
        "      x = torch.tensor(x, dtype=torch.float32)\n",
        "    else:\n",
        "      x = np.array(i[0])\n",
        "      x = torch.tensor(x, dtype=torch.float32)\n",
        "      x = torch.reshape(x, (1,))\n",
        "    params.append(x)\n",
        "  return params"
      ],
      "metadata": {
        "id": "N9Dp-3jDOB78"
      },
      "id": "N9Dp-3jDOB78",
      "execution_count": null,
      "outputs": []
    },
    {
      "cell_type": "markdown",
      "id": "1e47021f-f9cf-4ff6-af85-f549b7501548",
      "metadata": {
        "id": "1e47021f-f9cf-4ff6-af85-f549b7501548"
      },
      "source": [
        "## test policy"
      ]
    },
    {
      "cell_type": "markdown",
      "id": "20187481-21b7-4ea9-8132-ab7405b15bc8",
      "metadata": {
        "id": "20187481-21b7-4ea9-8132-ab7405b15bc8"
      },
      "source": [
        "We can test whether the policy that you found with nevergrad actually performs well in the real environment too - note that we trained on a surrogate of the environment that is not perfect. We use the policy to make at least 100 episodes of length 100 to get a decent estimate of the performance."
      ]
    },
    {
      "cell_type": "code",
      "source": [
        "def sample_weights(input_dim, hidden_units, output_dim):\n",
        "    W1 = 2 * torch.rand(hidden_units, input_dim) - 1\n",
        "    b1 = 2 * torch.rand(hidden_units) - 1\n",
        "    W2 = 2 * torch.rand(output_dim, hidden_units) - 1\n",
        "    b2 = 2 * torch.rand(output_dim) - 1\n",
        "    return W1, b1, W2, b2"
      ],
      "metadata": {
        "id": "qGuPoPs2YAJy"
      },
      "id": "qGuPoPs2YAJy",
      "execution_count": null,
      "outputs": []
    },
    {
      "cell_type": "code",
      "source": [
        "x = sample_weights(2,20,1)\n",
        "for i in x:\n",
        "  print(i.size())"
      ],
      "metadata": {
        "id": "D_cxbEdgSJO3"
      },
      "id": "D_cxbEdgSJO3",
      "execution_count": null,
      "outputs": []
    },
    {
      "cell_type": "code",
      "execution_count": null,
      "id": "79737168-7660-425c-8a04-70829df2ea9b",
      "metadata": {
        "id": "79737168-7660-425c-8a04-70829df2ea9b"
      },
      "outputs": [],
      "source": [
        "# test policy\n",
        "env = gym.make(\"MountainCarContinuous-v0\")\n",
        "model = CompoundModel(pModel, vModel)\n",
        "policy = PolicyModel(2,1,20)\n",
        "stateDict = policy.state_dict()\n",
        "#params = sample_weights(2,20,1)\n",
        "params = params_from_ng('policy.npy')\n",
        "for weight, p in zip(policy.state_dict(), params):\n",
        "  stateDict[f\"{weight}\"] = p\n",
        "episodes = 100\n",
        "state, _ = env.reset()\n",
        "count = 0\n",
        "for episode in range(episodes):\n",
        "  for _ in range(100):\n",
        "    action = policy(torch.tensor(state, dtype= torch.float32))\n",
        "    with torch.no_grad():\n",
        "      next_state, reward, terminated, truncated, _ = env.step(action)\n",
        "      if terminated or truncated:\n",
        "        print(terminated, truncated)\n",
        "        count+=1\n",
        "        break\n",
        "    state = next_state\n",
        "print(count/100)\n",
        "env.close()"
      ]
    },
    {
      "cell_type": "markdown",
      "id": "7da41c0a-2a8a-4e7e-a5c4-7f076e3e6885",
      "metadata": {
        "id": "7da41c0a-2a8a-4e7e-a5c4-7f076e3e6885"
      },
      "source": [
        "## visualize"
      ]
    },
    {
      "cell_type": "markdown",
      "id": "cf77243b-7922-48d9-b425-2bd6d823ffa0",
      "metadata": {
        "id": "cf77243b-7922-48d9-b425-2bd6d823ffa0"
      },
      "source": [
        "Since visualization in jupyter can be tricky, we write a small python script for it. We simply save the weights here and reload them in the script."
      ]
    },
    {
      "cell_type": "code",
      "execution_count": null,
      "id": "a6f79198-8b55-4a45-8c4f-0ecbddc7bb80",
      "metadata": {
        "id": "a6f79198-8b55-4a45-8c4f-0ecbddc7bb80"
      },
      "outputs": [],
      "source": [
        "#np.save(\"policy.npy\", recommendation.value)\n",
        "env = gym.make(\"MountainCarContinuous-v0\",render_mode=\"rgb_array\")"
      ]
    },
    {
      "cell_type": "code",
      "source": [
        "from typing_extensions import TypeVarTuple\n",
        "from pyvirtualdisplay import Display\n",
        "Display().start()\n",
        "\n",
        "import gym\n",
        "from IPython import display\n",
        "import matplotlib.pyplot as plt\n",
        "%matplotlib inline\n",
        "params = params_from_ng('policy.npy')\n",
        "for weight, p in zip(policy.state_dict(), params):\n",
        "  stateDict[f\"{weight}\"] = p\n",
        "state, _ = env.reset()\n",
        "a = env.render()\n",
        "img = plt.imshow(a)\n",
        "episode_length = 200\n",
        "for _ in range(episode_length):\n",
        "    img.set_data(env.render())\n",
        "    display.display(plt.gcf())\n",
        "    display.clear_output(wait=True)\n",
        "    action = policy(torch.tensor(state, dtype= torch.float32))\n",
        "    with torch.no_grad():\n",
        "      next_state, _, terminated, truncated, _ = env.step(action)\n",
        "      if terminated or truncated:\n",
        "        print('Terminated')\n",
        "        break\n",
        "    state = next_state"
      ],
      "metadata": {
        "id": "TOIHZTxO6UCo",
        "colab": {
          "base_uri": "https://localhost:8080/",
          "height": 396
        },
        "outputId": "d1a527d3-dc2f-4420-dc66-22a204aa2c35"
      },
      "id": "TOIHZTxO6UCo",
      "execution_count": null,
      "outputs": [
        {
          "output_type": "display_data",
          "data": {
            "text/plain": [
              "<Figure size 640x480 with 1 Axes>"
            ],
            "image/png": "[encoded data removed]"
          },
          "metadata": {}
        }
      ]
    }
  ],
  "metadata": {
    "kernelspec": {
      "display_name": "Python 3",
      "name": "python3"
    },
    "language_info": {
      "codemirror_mode": {
        "name": "ipython",
        "version": 3
      },
      "file_extension": ".py",
      "mimetype": "text/x-python",
      "name": "python",
      "nbconvert_exporter": "python",
      "pygments_lexer": "ipython3",
      "version": "3.9.5"
    },
    "colab": {
      "provenance": []
    }
  },
  "nbformat": 4,
  "nbformat_minor": 5
}